{
  "cells": [
    {
      "cell_type": "markdown",
      "metadata": {
        "id": "-uliu68WYOr2"
      },
      "source": [
        "#Clone repository from GitHub\n",
        "First off we will clone the ElevenLabsBot repository"
      ]
    },
    {
      "cell_type": "code",
      "execution_count": null,
      "metadata": {
        "id": "BYGppUKJWQT4"
      },
      "outputs": [],
      "source": [
        "!git clone https://github.com/Heartran/ElevenLabsBot.git"
      ]
    },
    {
      "cell_type": "code",
      "execution_count": 13,
      "metadata": {
        "colab": {
          "base_uri": "https://localhost:8080/"
        },
        "id": "gLfgG3OZhZ1-",
        "outputId": "c46aecb8-82c8-409e-dbcf-589a30cb009f"
      },
      "outputs": [
        {
          "name": "stdout",
          "output_type": "stream",
          "text": [
            "fatal: not a git repository (or any of the parent directories): .git\n"
          ]
        }
      ],
      "source": [
        "!cd /content/ElevenLabsBot && git switch main-colab\n"
      ]
    },
    {
      "cell_type": "markdown",
      "metadata": {
        "id": "JatLbnK9Yddk"
      },
      "source": [
        "#Create your environment\n",
        "To make the bot working you have to create or import a **.env** file to store certain secret variables like Discord Bot token and Server information. There is a **.env.template** file available to use as a template to compile and rename."
      ]
    },
    {
      "cell_type": "markdown",
      "metadata": {},
      "source": [
        "#Install Node.js\n",
        "In order to make the code working, you need to install node.js on the machine."
      ]
    },
    {
      "cell_type": "code",
      "execution_count": null,
      "metadata": {},
      "outputs": [],
      "source": [
        "!apt-get install nodejs"
      ]
    },
    {
      "cell_type": "markdown",
      "metadata": {},
      "source": [
        "#Install dependencies\n",
        "Since the code has several dependencies we need to install them in the machine"
      ]
    },
    {
      "cell_type": "code",
      "execution_count": null,
      "metadata": {},
      "outputs": [],
      "source": [
        "!npm install dotenv axios fs discord.js sqlite3"
      ]
    },
    {
      "cell_type": "markdown",
      "metadata": {
        "id": "f57bAaJBbOsA"
      },
      "source": [
        "#Run **index.js**\n",
        "Now that Node.js is installed and **.env** file is in place we're ready to launch the **index.js** file."
      ]
    },
    {
      "cell_type": "code",
      "execution_count": 12,
      "metadata": {
        "colab": {
          "base_uri": "https://localhost:8080/"
        },
        "id": "nklxunOafygZ",
        "outputId": "3e52d348-55b7-464b-ecb3-790c6552349f"
      },
      "outputs": [
        {
          "name": "stdout",
          "output_type": "stream",
          "text": [
            "\n"
          ]
        }
      ],
      "source": [
        "!node /content/ElevenLabsBot/index.js"
      ]
    }
  ],
  "metadata": {
    "colab": {
      "provenance": []
    },
    "kernelspec": {
      "display_name": "Python 3",
      "language": "python",
      "name": "python3"
    },
    "language_info": {
      "codemirror_mode": {
        "name": "ipython",
        "version": 3
      },
      "file_extension": ".py",
      "mimetype": "text/x-python",
      "name": "python",
      "nbconvert_exporter": "python",
      "pygments_lexer": "ipython3",
      "version": "3.8.5"
    }
  },
  "nbformat": 4,
  "nbformat_minor": 0
}
