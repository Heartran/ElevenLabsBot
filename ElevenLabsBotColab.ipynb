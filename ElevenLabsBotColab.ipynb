{
  "cells": [
    {
      "cell_type": "markdown",
      "metadata": {
        "id": "-uliu68WYOr2"
      },
      "source": [
        "#Clone repository from GitHub\n",
        "First off we will clone the ElevenLabsBot repository"
      ]
    },
    {
      "cell_type": "code",
      "execution_count": null,
      "metadata": {
        "colab": {
          "base_uri": "https://localhost:8080/"
        },
        "id": "BYGppUKJWQT4",
        "outputId": "70c768c9-5c77-4c27-b7de-0a5c8d038805"
      },
      "outputs": [],
      "source": [
        "!git clone https://github.com/Heartran/ElevenLabsBot.git"
      ]
    },
    {
      "cell_type": "markdown",
      "metadata": {
        "id": "JatLbnK9Yddk"
      },
      "source": [
        "#Create your environment\n",
        "To make the bot working you have to create a **.env** file to store certain secret variables like Discord Bot token and Server information."
      ]
    },
    {
      "cell_type": "markdown",
      "metadata": {
        "id": "f57bAaJBbOsA"
      },
      "source": [
        "#Run Node.js"
      ]
    },
    {
      "cell_type": "code",
      "execution_count": null,
      "metadata": {},
      "outputs": [],
      "source": [
        "import subprocess\n",
        "\n",
        "def run_js(file):\n",
        "    try:\n",
        "        result = subprocess.check_output([\"node\", file])\n",
        "        print(result.decode(\"utf-8\"))\n",
        "    except subprocess.CalledProcessError as e:\n",
        "        print(e.output.decode(\"utf-8\"))\n",
        "\n",
        "run_js(\"index.js\")"
      ]
    }
  ],
  "metadata": {
    "kernelspec": {
      "display_name": "Python 3",
      "language": "python",
      "name": "python3"
    },
    "language_info": {
      "codemirror_mode": {
        "name": "ipython",
        "version": 3
      },
      "file_extension": ".py",
      "mimetype": "text/x-python",
      "name": "python",
      "nbconvert_exporter": "python",
      "pygments_lexer": "ipython3",
      "version": "3.8.5"
    }
  },
  "nbformat": 4,
  "nbformat_minor": 4
}
