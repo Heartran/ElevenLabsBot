{
  "nbformat": 4,
  "nbformat_minor": 0,
  "metadata": {
    "colab": {
      "provenance": []
    },
    "kernelspec": {
      "name": "python3",
      "display_name": "Python 3"
    },
    "language_info": {
      "name": "python"
    }
  },
  "cells": [
    {
      "cell_type": "markdown",
      "source": [
        "#Clone repository from GitHub\n",
        "First off we will clone the ElevenLabsBot repository"
      ],
      "metadata": {
        "id": "-uliu68WYOr2"
      }
    },
    {
      "cell_type": "code",
      "execution_count": 1,
      "metadata": {
        "colab": {
          "base_uri": "https://localhost:8080/"
        },
        "id": "BYGppUKJWQT4",
        "outputId": "70c768c9-5c77-4c27-b7de-0a5c8d038805"
      },
      "outputs": [
        {
          "output_type": "stream",
          "name": "stdout",
          "text": [
            "Cloning into 'ElevenLabsBot'...\n",
            "remote: Enumerating objects: 1627, done.\u001b[K\n",
            "remote: Counting objects: 100% (1627/1627), done.\u001b[K\n",
            "remote: Compressing objects: 100% (1341/1341), done.\u001b[K\n",
            "remote: Total 1627 (delta 244), reused 1604 (delta 234), pack-reused 0\u001b[K\n",
            "Receiving objects: 100% (1627/1627), 6.69 MiB | 2.30 MiB/s, done.\n",
            "Resolving deltas: 100% (244/244), done.\n"
          ]
        }
      ],
      "source": [
        "!git clone https://github.com/Heartran/ElevenLabsBot.git"
      ]
    },
    {
      "cell_type": "markdown",
      "source": [
        "#Create your environment\n",
        "To make the bot working you have to create a **.env** file to store certain secret variables like Discord Bot token and Server information."
      ],
      "metadata": {
        "id": "JatLbnK9Yddk"
      }
    },
    {
      "cell_type": "markdown",
      "source": [
        "#Run Node.js"
      ],
      "metadata": {
        "id": "f57bAaJBbOsA"
      }
    },
    {
      "cell_type": "code",
      "source": [
        "!cd /content/ElevenLabsBot\n",
        "!node index.js"
      ],
      "metadata": {
        "colab": {
          "base_uri": "https://localhost:8080/"
        },
        "id": "dKJmh6y_bRyT",
        "outputId": "7f6b1160-5986-4897-e2dd-f3e6c438973b"
      },
      "execution_count": 2,
      "outputs": [
        {
          "output_type": "stream",
          "name": "stdout",
          "text": [
            "internal/modules/cjs/loader.js:883\n",
            "  throw err;\n",
            "  ^\n",
            "\n",
            "Error: Cannot find module '/content/index.js'\n",
            "\u001b[90m    at Function.Module._resolveFilename (internal/modules/cjs/loader.js:880:15)\u001b[39m\n",
            "\u001b[90m    at Function.Module._load (internal/modules/cjs/loader.js:725:27)\u001b[39m\n",
            "\u001b[90m    at Function.executeUserEntryPoint [as runMain] (internal/modules/run_main.js:72:12)\u001b[39m\n",
            "\u001b[90m    at internal/main/run_main_module.js:17:47\u001b[39m {\n",
            "  code: \u001b[32m'MODULE_NOT_FOUND'\u001b[39m,\n",
            "  requireStack: []\n",
            "}\n"
          ]
        }
      ]
    }
  ]
}