{
  "nbformat": 4,
  "nbformat_minor": 0,
  "metadata": {
    "colab": {
      "provenance": []
    },
    "kernelspec": {
      "name": "python3",
      "display_name": "Python 3"
    },
    "language_info": {
      "name": "python"
    }
  },
  "cells": [
    {
      "cell_type": "code",
      "execution_count": null,
      "metadata": {
        "colab": {
          "base_uri": "https://localhost:8080/"
        },
        "id": "0ayl4sXWqxhJ",
        "outputId": "6ba7ea29-a3f7-433e-875e-7b6163f99233"
      },
      "outputs": [
        {
          "output_type": "stream",
          "name": "stdout",
          "text": [
            "Cloning into 'ElevenLabsBot'...\n",
            "remote: Enumerating objects: 19, done.\u001b[K\n",
            "remote: Counting objects: 100% (19/19), done.\u001b[K\n",
            "remote: Compressing objects: 100% (13/13), done.\u001b[K\n",
            "remote: Total 19 (delta 1), reused 19 (delta 1), pack-reused 0\u001b[K\n",
            "Receiving objects: 100% (19/19), 14.06 KiB | 3.52 MiB/s, done.\n",
            "Resolving deltas: 100% (1/1), done.\n"
          ]
        }
      ],
      "source": [
        "!git clone https://github.com/Heartran/ElevenLabsBot.git"
      ]
    },
    {
      "cell_type": "code",
      "source": [
        "!npm install dotenv axios discord.js node"
      ],
      "metadata": {
        "colab": {
          "base_uri": "https://localhost:8080/"
        },
        "id": "1ozWKYROrhUF",
        "outputId": "887be229-0746-41eb-ae73-edbf3af24b15"
      },
      "execution_count": null,
      "outputs": [
        {
          "output_type": "stream",
          "name": "stdout",
          "text": [
            "\u001b[K\u001b[?25h\n",
            "> node@20.7.0 preinstall /content/ElevenLabsBot/node_modules/node\n",
            "> node installArchSpecificPackage\n",
            "\n",
            "\u001b[K\u001b[?25h+ node-linux-x64@20.7.0\n",
            "added 1 package in 3.599s\n",
            "found \u001b[92m0\u001b[0m vulnerabilities\n",
            "\n",
            "\u001b[37;40mnpm\u001b[0m \u001b[0m\u001b[30;43mWARN\u001b[0m \u001b[0m\u001b[35msaveError\u001b[0m ENOENT: no such file or directory, open '/content/ElevenLabsBot/package.json'\n",
            "\u001b[K\u001b[?25h\u001b[37;40mnpm\u001b[0m \u001b[0m\u001b[30;43mWARN\u001b[0m \u001b[0m\u001b[35mnotsup\u001b[0m Unsupported engine for discord.js@14.13.0: wanted: {\"node\":\">=16.11.0\"} (current: {\"node\":\"14.16.0\",\"npm\":\"6.14.8\"})\n",
            "\u001b[0m\u001b[37;40mnpm\u001b[0m \u001b[0m\u001b[30;43mWARN\u001b[0m \u001b[0m\u001b[35mnotsup\u001b[0m Not compatible with your version of node/npm: discord.js@14.13.0\n",
            "\u001b[0m\u001b[37;40mnpm\u001b[0m \u001b[0m\u001b[30;43mWARN\u001b[0m \u001b[0m\u001b[35menoent\u001b[0m ENOENT: no such file or directory, open '/content/ElevenLabsBot/package.json'\n",
            "\u001b[0m\u001b[37;40mnpm\u001b[0m \u001b[0m\u001b[30;43mWARN\u001b[0m\u001b[35m\u001b[0m ElevenLabsBot No description\n",
            "\u001b[0m\u001b[37;40mnpm\u001b[0m \u001b[0m\u001b[30;43mWARN\u001b[0m\u001b[35m\u001b[0m ElevenLabsBot No repository field.\n",
            "\u001b[0m\u001b[37;40mnpm\u001b[0m \u001b[0m\u001b[30;43mWARN\u001b[0m\u001b[35m\u001b[0m ElevenLabsBot No README data\n",
            "\u001b[0m\u001b[37;40mnpm\u001b[0m \u001b[0m\u001b[30;43mWARN\u001b[0m\u001b[35m\u001b[0m ElevenLabsBot No license field.\n",
            "\u001b[0m\n",
            "+ axios@1.5.1\n",
            "+ discord.js@14.13.0\n",
            "+ dotenv@16.3.1\n",
            "+ node@20.7.0\n",
            "added 2 packages from 1 contributor, updated 3 packages and audited 64 packages in 5.414s\n",
            "\n",
            "2 packages are looking for funding\n",
            "  run `npm fund` for details\n",
            "\n",
            "found \u001b[92m0\u001b[0m vulnerabilities\n",
            "\n",
            "\u001b[K\u001b[?25h"
          ]
        }
      ]
    },
    {
      "cell_type": "code",
      "source": [
        "!cd /content/ElevenLabsBot\n",
        "!node index.js"
      ],
      "metadata": {
        "colab": {
          "base_uri": "https://localhost:8080/"
        },
        "id": "NgbbH26BrLZr",
        "outputId": "e3bda0fd-2c82-47d6-b2ad-081cf5edb69e"
      },
      "execution_count": null,
      "outputs": [
        {
          "output_type": "stream",
          "name": "stdout",
          "text": [
            "internal/modules/cjs/loader.js:883\n",
            "  throw err;\n",
            "  ^\n",
            "\n",
            "Error: Cannot find module 'node:events'\n",
            "Require stack:\n",
            "- /content/ElevenLabsBot/node_modules/discord.js/src/client/BaseClient.js\n",
            "- /content/ElevenLabsBot/node_modules/discord.js/src/index.js\n",
            "- /content/ElevenLabsBot/index.js\n",
            "\u001b[90m    at Function.Module._resolveFilename (internal/modules/cjs/loader.js:880:15)\u001b[39m\n",
            "\u001b[90m    at Function.Module._load (internal/modules/cjs/loader.js:725:27)\u001b[39m\n",
            "\u001b[90m    at Module.require (internal/modules/cjs/loader.js:952:19)\u001b[39m\n",
            "\u001b[90m    at require (internal/modules/cjs/helpers.js:88:18)\u001b[39m\n",
            "    at Object.<anonymous> (/content/ElevenLabsBot/node_modules/\u001b[4mdiscord.js\u001b[24m/src/client/BaseClient.js:3:22)\n",
            "\u001b[90m    at Module._compile (internal/modules/cjs/loader.js:1063:30)\u001b[39m\n",
            "\u001b[90m    at Object.Module._extensions..js (internal/modules/cjs/loader.js:1092:10)\u001b[39m\n",
            "\u001b[90m    at Module.load (internal/modules/cjs/loader.js:928:32)\u001b[39m\n",
            "\u001b[90m    at Function.Module._load (internal/modules/cjs/loader.js:769:14)\u001b[39m\n",
            "\u001b[90m    at Module.require (internal/modules/cjs/loader.js:952:19)\u001b[39m {\n",
            "  code: \u001b[32m'MODULE_NOT_FOUND'\u001b[39m,\n",
            "  requireStack: [\n",
            "    \u001b[32m'/content/ElevenLabsBot/node_modules/discord.js/src/client/BaseClient.js'\u001b[39m,\n",
            "    \u001b[32m'/content/ElevenLabsBot/node_modules/discord.js/src/index.js'\u001b[39m,\n",
            "    \u001b[32m'/content/ElevenLabsBot/index.js'\u001b[39m\n",
            "  ]\n",
            "}\n"
          ]
        }
      ]
    }
  ]
}